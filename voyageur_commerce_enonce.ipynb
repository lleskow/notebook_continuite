{
 "cells": [
  {
   "cell_type": "markdown",
   "metadata": {},
   "source": [
    "# Implémentation pour le problème du Voyageur de commerce\n",
    "\n",
    "## Modèlisation du problème\n",
    "\n",
    "Nous allons représenter les villes par des points dont nous donneront les coordonnées entières dans un repère orthonormé.\n",
    "Les villes seront placées dans une liste, et nous les désignerons par leur indice dans cette liste:"
   ]
  },
  {
   "cell_type": "code",
   "execution_count": null,
   "metadata": {},
   "outputs": [],
   "source": [
    "expl_villes = [(52, 43), (74, 56), (47, 66), (88, 64), (91, 21), (61, 19), (83, 37), (3, 3), (79, 41), (84, 88)]\n",
    "expl_villes[0]  # la première ville"
   ]
  },
  {
   "cell_type": "markdown",
   "metadata": {},
   "source": [
    "La fonction suivante est donnée et permet de visualiser la position des villes."
   ]
  },
  {
   "cell_type": "code",
   "execution_count": null,
   "metadata": {},
   "outputs": [],
   "source": [
    "import matplotlib.pyplot as plt\n",
    "\n",
    "def affiche_villes(villes):\n",
    "    \"\"\" list[ville] -> None\n",
    "    Affichage pour une liste de ville\n",
    "    \"\"\"\n",
    "    x, y = [ville[0] for ville in villes], [ville[1] for ville in villes]\n",
    "    plt.plot(x, y, \"x\")\n",
    "    plt.show()"
   ]
  },
  {
   "cell_type": "code",
   "execution_count": null,
   "metadata": {},
   "outputs": [],
   "source": [
    "affiche_villes(expl_villes)"
   ]
  },
  {
   "cell_type": "markdown",
   "metadata": {},
   "source": [
    "Nous utiliserons la distance \"à vol d'oiseau\" pour mesurer la distance entre les villes.\n",
    "Cette distance correspond à la distance euclidienne que vous avez vu en mathématiques en seconde.\n",
    "\n",
    "1. Ecrire une fonction qui renvoie la distance entre deux villes:"
   ]
  },
  {
   "cell_type": "code",
   "execution_count": null,
   "metadata": {},
   "outputs": [],
   "source": [
    "from math import sqrt  # la fonction sqrt permet de calculer la racine carrée d'un nombre positif\n",
    "\n",
    "def distance(villeA, villeB):\n",
    "    \"\"\" ville, ville -> float\n",
    "    Renvoie la distance entre deux villes.\n",
    "    \"\"\"\n",
    "    xA, yA = villeA\n",
    "    xB, yB = villeB\n",
    "    ..."
   ]
  },
  {
   "cell_type": "code",
   "execution_count": null,
   "metadata": {},
   "outputs": [],
   "source": [
    "assert distance(expl_villes[0], expl_villes[1]) > 25.5\n",
    "assert distance(expl_villes[0], expl_villes[1]) < 25.6"
   ]
  },
  {
   "cell_type": "markdown",
   "metadata": {},
   "source": [
    "Mais a-t-on vraiment besoin de calculer la distance ? On utilise ici la fonction racine carrée qui est croissante, cela veut dire que:\n",
    "\n",
    "$\\sqrt{a} < \\sqrt{b}$ si, et seulement si, $a < b$\n",
    "\n",
    "Autrement dit, pour comparer $\\sqrt{a}$ et $\\sqrt{b}$, il suffit de comparer $a$ et $b$.\n",
    "Cela permet d'éviter de faire des calculs en plus et d'avoir à manipuler des nombres flottants.\n",
    "\n",
    "2. Ecrire une fonction qui renvoie le carré de la distance (ne pas utiliser la fonction ```distance```)."
   ]
  },
  {
   "cell_type": "code",
   "execution_count": 5,
   "metadata": {},
   "outputs": [],
   "source": [
    "def distance_carree(villeA, villeB):\n",
    "    \"\"\" ville, ville -> int\n",
    "    Renvoie le carré de la distance entre deux villes.\n",
    "    \"\"\"\n",
    "    ..."
   ]
  },
  {
   "cell_type": "markdown",
   "metadata": {},
   "source": [
    "Pour éviter de recalculer en permanence les mêmes distances, nous allons calculer tout les carrés des distances et les stocker dans un tableau à deux dimensions.\n",
    "\n",
    "Schématiquement:\n",
    "\n",
    "| distances | 0 | 1 | 2 | 3 |\n",
    "|-----------|---|---|---|---|\n",
    "| 0 | $+\\infty$ | 25 | 101 | 34 |\n",
    "| 1 | 25 | $+\\infty$ | 50 | 40 |\n",
    "| 2 | 101 | 50 | $+\\infty$  | 153|\n",
    "| 3 | 34|40|153|$+\\infty$|\n",
    "\n",
    "Python permet de représenter l'infini par: ```float(\"inf\")```\n",
    "\n",
    "2. Ecrire une fonction qui calcule, tout les carrés distances entre chacune des villes et qui renvoient les résultats sous la forme d'un tableau 2d."
   ]
  },
  {
   "cell_type": "code",
   "execution_count": 4,
   "metadata": {},
   "outputs": [],
   "source": [
    "def calcul_distances(villes):\n",
    "    \"\"\" list[ville] -> list[list[float]]\n",
    "    Renvoie le carré de la distance entre chaque ville sous la forme d'un tableau à double entrée.\n",
    "    La distance entre une ville et elle même est considérée comme infini\n",
    "    \"\"\"\n",
    "    n = len(villes)\n",
    "    distances = [[0 for j in range(n)] for i in range(n)]\n",
    "    \n",
    "    ...\n",
    "    \n",
    "    return distances"
   ]
  },
  {
   "cell_type": "code",
   "execution_count": null,
   "metadata": {},
   "outputs": [],
   "source": [
    "expl_dists = calcul_distances(expl_villes)\n",
    "expl_dists"
   ]
  },
  {
   "cell_type": "markdown",
   "metadata": {},
   "source": [
    "Nous avons besoin de nous rappeler des villes qui ont déjà été visitées, pour cela nous utiliserons un tableau \n",
    "contenant autant de booléens que de villes.\n",
    "Dans l'exemple ci-dessous seul la première et la dernière villes ont été visité."
   ]
  },
  {
   "cell_type": "code",
   "execution_count": 1,
   "metadata": {},
   "outputs": [],
   "source": [
    "expl_visitees = [True, False, False, False, False, False, False, False, False, True]"
   ]
  },
  {
   "cell_type": "markdown",
   "metadata": {},
   "source": [
    "Nous considérons toujours que le voyageur part de la première ville, ainsi le tableau des villes devra toujours \n",
    "avoir ```True``` comme premier élément."
   ]
  },
  {
   "cell_type": "markdown",
   "metadata": {},
   "source": [
    "## Implémentation de l'algorithme glouton:\n",
    "\n",
    "\n",
    "3. En vous inspirant de l'algorithme du minimum, écrire une fonction renvoyant la ville la plus proche non visitée (le tableau des distances est données).\n",
    "Est-il plus judicieux de faire: \n",
    "\n",
    "```if (not visitees[i]) and (distances[i_ville_actu][i] < mini):```\n",
    "\n",
    "ou \n",
    "\n",
    "```if (distances[i_ville_actu][i] < mini) and (not visitees[i]):```\n",
    "\n",
    "? Pourquoi ?\n"
   ]
  },
  {
   "cell_type": "code",
   "execution_count": null,
   "metadata": {},
   "outputs": [],
   "source": [
    "def ville_plus_proche(i_ville_actu, visitees, distances):\n",
    "    \"\"\" int, list[bool], list[list[float]] -> int\n",
    "    precondition: il existe une ville non visitée\n",
    "    Renvoie la ville non visitée la plus proche de i_ville_actu\n",
    "    \"\"\"\n",
    "    n = len(visitees)\n",
    "    i_min, mini = i_ville_actu, float(\"inf\")\n",
    "    ..."
   ]
  },
  {
   "cell_type": "code",
   "execution_count": null,
   "metadata": {},
   "outputs": [],
   "source": [
    "assert ville_plus_proche(0, expl_visitees, expl_dists) == 2\n",
    "assert ville_plus_proche(9, expl_visitees, expl_dists) == 3"
   ]
  },
  {
   "cell_type": "markdown",
   "metadata": {},
   "source": [
    "4. Implémenter l'algorithme glouton, que nous avons vu, pour le problème de voyageur de commerce, sous la forme d'une fonction qui renvoie la liste des indices des villes visitées."
   ]
  },
  {
   "cell_type": "code",
   "execution_count": null,
   "metadata": {},
   "outputs": [],
   "source": [
    "def voyageur_glouton(villes):\n",
    "    \"\"\" list[ville] -> list[ville]\n",
    "    preconditions: il y a au moins deux villes\n",
    "    \"\"\"\n",
    "    n = len(villes)\n",
    "    villes_trajet = [0 for i in range(n+1)] # le premier et dernier éléments resteront 0\n",
    "    visitees = [False for i in range(n)]\n",
    "    visitees[0] = ...\n",
    "    ..."
   ]
  },
  {
   "cell_type": "code",
   "execution_count": null,
   "metadata": {},
   "outputs": [],
   "source": [
    "assert voyageur_glouton(expl_villes) == [0, 2, 1, 8, 6, 4, 5, 3, 9, 7, 0]"
   ]
  },
  {
   "cell_type": "code",
   "execution_count": null,
   "metadata": {},
   "outputs": [],
   "source": [
    "def affiche_trajet(villes, trajet):\n",
    "    \"\"\" list[ville], list[ville] -> None\n",
    "    Affichage pour une liste de ville, et un trajet\n",
    "    \"\"\"\n",
    "    x, y = [villes[trajet[i]][0] for i in trajet], [villes[trajet[i]][1] for i in trajet]\n",
    "    plt.plot(x, y)\n",
    "    plt.axis(\"equal\")\n",
    "    plt.show()"
   ]
  },
  {
   "cell_type": "code",
   "execution_count": null,
   "metadata": {},
   "outputs": [],
   "source": [
    "affiche_trajet(expl_villes, voyageur_glouton(expl_villes))"
   ]
  },
  {
   "cell_type": "code",
   "execution_count": null,
   "metadata": {},
   "outputs": [],
   "source": [
    "from random import randint\n",
    "villes_alea = [(randint(0, 100), randint(0, 100)) for i in range(100)]\n",
    "affiche_trajet(villes_alea, voyageur_glouton(villes_alea))"
   ]
  },
  {
   "cell_type": "code",
   "execution_count": null,
   "metadata": {
    "scrolled": true
   },
   "outputs": [],
   "source": [
    "carre = [(10, 10), (90, 10), (90, 90), (10, 90)]\n",
    "affiche_trajet(carre, voyageur_glouton(carre))"
   ]
  },
  {
   "cell_type": "markdown",
   "metadata": {},
   "source": [
    "5. Ecrire une fonction calculant la distance totale parcourrue lors d'un trajet."
   ]
  },
  {
   "cell_type": "code",
   "execution_count": null,
   "metadata": {},
   "outputs": [],
   "source": [
    "def distance_trajet(villes, trajet):\n",
    "    \"\"\" list[ville], list[int] -> float \"\"\"\n",
    "    dist = calcul_distances(villes)\n",
    "    n = len(villes)\n",
    "    ..."
   ]
  },
  {
   "cell_type": "code",
   "execution_count": null,
   "metadata": {},
   "outputs": [],
   "source": [
    "assert distance_trajet(carre, voyageur_glouton(carre)) < 320.1\n",
    "assert distance_trajet(carre, voyageur_glouton(carre)) > 319.9"
   ]
  },
  {
   "cell_type": "code",
   "execution_count": null,
   "metadata": {},
   "outputs": [],
   "source": [
    "from math import cos, sin, pi\n",
    "n = 15\n",
    "cercle = [(cos(2*k*pi/n), sin(2*k*pi/n)) for k in range(n)]\n",
    "affiche_trajet(cercle, voyageur_glouton(cercle))"
   ]
  },
  {
   "cell_type": "markdown",
   "metadata": {},
   "source": [
    "6. En déduire, une approximation (pas très sérieuse) de $\\pi$."
   ]
  }
 ],
 "metadata": {
  "kernelspec": {
   "display_name": "Python 3",
   "language": "python",
   "name": "python3"
  },
  "language_info": {
   "codemirror_mode": {
    "name": "ipython",
    "version": 3
   },
   "file_extension": ".py",
   "mimetype": "text/x-python",
   "name": "python",
   "nbconvert_exporter": "python",
   "pygments_lexer": "ipython3",
   "version": "3.7.7"
  }
 },
 "nbformat": 4,
 "nbformat_minor": 2
}
